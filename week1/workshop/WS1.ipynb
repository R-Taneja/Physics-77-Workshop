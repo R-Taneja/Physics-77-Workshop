{
  "cells": [
    {
      "cell_type": "markdown",
      "metadata": {
        "id": "view-in-github",
        "colab_type": "text"
      },
      "source": [
        "<a href=\"https://colab.research.google.com/github/R-Taneja/Physics-77-Workshop/blob/main/week1/workshop/WS1.ipynb\" target=\"_parent\"><img src=\"https://colab.research.google.com/assets/colab-badge.svg\" alt=\"Open In Colab\"/></a>"
      ]
    },
    {
      "cell_type": "markdown",
      "id": "765e68c0",
      "metadata": {
        "id": "765e68c0"
      },
      "source": [
        "# Workshop 1, January 31, 2025\n",
        "\n",
        "\n",
        "\n",
        "**<span style=\"color:red\"> Important submission information: upload both the ipynb and pdf versions to bcourse to receive credits. Your submission files should be renamed to your SID, e.g., if your SID is 12345678, then the files should be 12345678.pdf and 12345678.ipynb</span>**\n",
        "\n",
        "**Submission deadline is 8:59 pm, Tuesday, February 4, 2025**\n",
        "\n",
        "Congratulations for arriving at this page! This means you have successfully checked out the notebook from our bcourses site. This workshop has three parts\n",
        "\n",
        "- Jupyter Notebook basics\n",
        "    * The jupyter notebook hosted at datahub.berkeley.edu is the primary platform for all the works to be conducted for this course\n",
        "\n",
        "- Google Colaboratory basics (optional)\n",
        "    * The Google Colaboratory is used as a fallback solution in the case that datahub is unavailable\n",
        "\n",
        "- Import modules in Python\n",
        "    "
      ]
    },
    {
      "cell_type": "markdown",
      "id": "50707007",
      "metadata": {
        "id": "50707007"
      },
      "source": [
        "# Part 1\n",
        "## Exercise 1: Basic concepts\n",
        "\n",
        "Let's do a walk-through of the Jupter interface.\n",
        "\n",
        "### Menus and tool bar:\n",
        "    At the top of the page, there is a menu bar that includes a series of drop-down menus, e.g., File, Edit, View, etc.. Next is the tool bar, which allows you to do various operations such as saving the notebook, manipulating cells, executing cells, etc. Move your cursor over these icons and there will be a pop-up tooltip telling you what this icon is about. Famarlize yourself with the available drop-down menus and the icons in the toolbar.\n",
        "\n",
        "### Cells\n",
        "-    The mainbody of the notebook contains a series of \"cells\". In Jupyter Notebook, a cell is a discrete unit of content that can contain either code or text. It's the fundamental building block of a notebook, allowing you to create interactive and executable documents.\n",
        "-    There are two types of cells\n",
        "    *      Code Cells: These cells are used for writing and executing code. You can write Python code directly in these cells. When you run a code cell, the code within it is executed, and the output is displayed below the cell. Code cells enable you to interactively work with and experiment with code.\n",
        "    *      Markdown Cells: These cells use Markdown syntax to format and display text. Markdown is a lightweight markup language that allows you to create nicely formatted text with headings, lists, links, images, and more. Markdown cells are great for providing explanations, documenting your work, and making your notebook more reader-friendly. Try to double click this text and see what happens. Yes, you should now see the source code put in the markdown cell. Click the Run button in the tool bar or type Ctrl+Enter to execute this markdown to see the executed output of this markdown cell.\n"
      ]
    },
    {
      "cell_type": "code",
      "execution_count": 2,
      "id": "2b79dd0f",
      "metadata": {
        "id": "2b79dd0f"
      },
      "outputs": [],
      "source": [
        "# This is a code cell I created for you. This line starting with a # sign, is known as a comment.\n",
        "# It won't be interpreted as a python code when executing this cell.\n"
      ]
    },
    {
      "cell_type": "markdown",
      "id": "1d81f529",
      "metadata": {
        "id": "1d81f529"
      },
      "source": [
        "\n",
        "## Exercise 2: Cell Operations\n",
        "\n",
        "### 2.1 Now add a code cell below this current markdown cell\n",
        "\n",
        "- This can be done by using the \"+\" button in the menu\n",
        "- Make sure you are also able to do it with keyboard shortcut. Here's a step-by-step breakdown:\n",
        "    * Make sure you're in Command Mode (meaning that you are not editing any cell, and this indicated by the blue vertical bar on the left of the cell. If the vertical bar is green, then you are in an Edit mode, and you should see the cursor in the cell) by pressing the Esc key if you're currently in Edit Mode (indicated by a green cell border).\n",
        "    * Press A to add a new code cell above the currently selected cell.\n",
        "    * Press B to add a new code cell below the currently selected cell.\n",
        "\n",
        "    * Remember, these shortcuts work in Command Mode, where you're navigating and manipulating cells without editing their content. If you're in Edit Mode (inside a cell), you can press Esc to switch to Command Mode."
      ]
    },
    {
      "cell_type": "code",
      "source": [],
      "metadata": {
        "id": "F-b2iPNf4dps"
      },
      "id": "F-b2iPNf4dps",
      "execution_count": null,
      "outputs": []
    },
    {
      "cell_type": "markdown",
      "id": "f08404dc",
      "metadata": {
        "id": "f08404dc"
      },
      "source": [
        "### 2.2 Edit and execute cells\n",
        "\n",
        "- Let's first add a markdown cell below\n",
        "    * Write a short paragraph of your impression of the first lecture on Wednesday\n",
        "    * Execute it\n",
        "- Then, add a code cell after the markdown\n",
        "    * type the following in the code cell\n",
        "    \n",
        "    ```print('Hello Berkeley!')```\n",
        "    * execute it\n",
        "- Now, do another exercise for code cell. Type the following into the same code that you just created, and execute the cell\n",
        "\n",
        "```# This is a simple addition\n",
        "    x = 10\n",
        "    y = 20\n",
        "    sum = x + y\n",
        "    print (sum)```"
      ]
    },
    {
      "cell_type": "markdown",
      "source": [
        "I unfortunately wasn't able to attend lecture on Wednesday as I just added the course to my schedule on Thursday"
      ],
      "metadata": {
        "id": "9BWZlHIT4s19"
      },
      "id": "9BWZlHIT4s19"
    },
    {
      "cell_type": "code",
      "source": [
        "print('Hello Berkeley!')\n",
        "# This is a simple addition\n",
        "x = 10\n",
        "y = 20\n",
        "sum = x + y\n",
        "print(sum)"
      ],
      "metadata": {
        "id": "Ijrhs2Qu40LP",
        "outputId": "0cc3077b-1639-4f3d-87e3-450ca5f68d51",
        "colab": {
          "base_uri": "https://localhost:8080/"
        }
      },
      "id": "Ijrhs2Qu40LP",
      "execution_count": 5,
      "outputs": [
        {
          "output_type": "stream",
          "name": "stdout",
          "text": [
            "Hello Berkeley!\n",
            "30\n"
          ]
        }
      ]
    },
    {
      "cell_type": "markdown",
      "id": "f788f6d2",
      "metadata": {
        "id": "f788f6d2"
      },
      "source": [
        "### 2.3 Cell type conversion\n",
        "\n",
        "- Create a markdown cell that includes the following lines\n",
        "```\n",
        "y = 1\n",
        "x = 5\n",
        "print(x**(y+1))\n",
        "```\n",
        "\n",
        "- Converting Markdown Cell to Code Cell:\n",
        "\n",
        "    * Select the markdown cell that you want to convert.\n",
        "    * Make sure you're in Command Mode (press Esc if you're not).\n",
        "    * Press the Y key (not case sensitive).\n",
        "    * The selected markdown cell will be converted into a code cell.\n",
        "    * Also execute this cell and see what you have\n",
        "\n",
        "- Converting Code Cell to Markdown Cell:\n",
        "\n",
        "    * Select the code cell that you want to convert.\n",
        "    * Make sure you're in Command Mode (press Esc if you're not).\n",
        "    * Press the M key(not case sensitive).\n",
        "    * The selected code cell will be converted into a markdown cell.\n",
        "\n",
        "\n"
      ]
    },
    {
      "cell_type": "code",
      "source": [
        "y = 1\n",
        "x = 5\n",
        "print(x**(y+1))"
      ],
      "metadata": {
        "id": "MgWAi19u5TEU",
        "outputId": "929eee04-21d7-4d73-9c50-9918520590e2",
        "colab": {
          "base_uri": "https://localhost:8080/"
        }
      },
      "id": "MgWAi19u5TEU",
      "execution_count": 6,
      "outputs": [
        {
          "output_type": "stream",
          "name": "stdout",
          "text": [
            "25\n"
          ]
        }
      ]
    },
    {
      "cell_type": "markdown",
      "source": [
        "y = 1\n",
        "x = 5\n",
        "print(x**(y+1))"
      ],
      "metadata": {
        "id": "Tn-I-O1M5A4m"
      },
      "id": "Tn-I-O1M5A4m"
    },
    {
      "cell_type": "markdown",
      "id": "28534d50",
      "metadata": {
        "id": "28534d50"
      },
      "source": [
        "### 2.4 Interrupt Cell Execution\n",
        "- Create a code cell below\n",
        "- Type the following to the code cell and execute it\n",
        "\n",
        "```\n",
        "import time\n",
        "\n",
        "# Code you want to run\n",
        "print(\"This is the beginning of the code.\")\n",
        "# ...\n",
        "\n",
        "# Set the timer to pause for 5 seconds\n",
        "time.sleep(5)  # Pause for 5 seconds\n",
        "\n",
        "# Code that continues after the timer\n",
        "print(\"This is after the timer.\")\n",
        "# ...\n",
        "```\n",
        "- This code snippet would print out two statements, but in between, there is a delay introduced by ```time.sleep(5)```.\n",
        "- Now, execute the cell again, but interrupt it before the second statement is printed out. You can achieve by the following steps\n",
        "    * Click the \"Interrupt\" Button: Look at the toolbar at the top of the notebook interface. You'll see a square \"Interrupt\" button (a black square) next to the \"Run\" button. Clicking this \"Interrupt\" button will stop the execution of the currently running cell.\n",
        "    * Keyboard Shortcut (Optional): Alternatively, you can use the keyboard shortcut I twice in quick succession. First, press I, then press it again. This is a quick way to interrupt the currently running cell.\n"
      ]
    },
    {
      "cell_type": "code",
      "source": [
        "import time\n",
        "\n",
        "# Code you want to run\n",
        "print(\"This is the beginning of the code.\")\n",
        "# ...\n",
        "\n",
        "# Set the timer to pause for 5 seconds\n",
        "time.sleep(5)  # Pause for 5 seconds\n",
        "\n",
        "# Code that continues after the timer\n",
        "print(\"This is after the timer.\")\n",
        "# ..."
      ],
      "metadata": {
        "id": "p6qyaxEp5dLW",
        "outputId": "92b0a001-9cf8-498a-ba4c-722198a3ed54",
        "colab": {
          "base_uri": "https://localhost:8080/",
          "height": 233
        }
      },
      "id": "p6qyaxEp5dLW",
      "execution_count": 8,
      "outputs": [
        {
          "output_type": "stream",
          "name": "stdout",
          "text": [
            "This is the beginning of the code.\n"
          ]
        },
        {
          "output_type": "error",
          "ename": "KeyboardInterrupt",
          "evalue": "",
          "traceback": [
            "\u001b[0;31m---------------------------------------------------------------------------\u001b[0m",
            "\u001b[0;31mKeyboardInterrupt\u001b[0m                         Traceback (most recent call last)",
            "\u001b[0;32m<ipython-input-8-90dd2e9b0714>\u001b[0m in \u001b[0;36m<cell line: 0>\u001b[0;34m()\u001b[0m\n\u001b[1;32m      6\u001b[0m \u001b[0;34m\u001b[0m\u001b[0m\n\u001b[1;32m      7\u001b[0m \u001b[0;31m# Set the timer to pause for 5 seconds\u001b[0m\u001b[0;34m\u001b[0m\u001b[0;34m\u001b[0m\u001b[0m\n\u001b[0;32m----> 8\u001b[0;31m \u001b[0mtime\u001b[0m\u001b[0;34m.\u001b[0m\u001b[0msleep\u001b[0m\u001b[0;34m(\u001b[0m\u001b[0;36m5\u001b[0m\u001b[0;34m)\u001b[0m  \u001b[0;31m# Pause for 5 seconds\u001b[0m\u001b[0;34m\u001b[0m\u001b[0;34m\u001b[0m\u001b[0m\n\u001b[0m\u001b[1;32m      9\u001b[0m \u001b[0;34m\u001b[0m\u001b[0m\n\u001b[1;32m     10\u001b[0m \u001b[0;31m# Code that continues after the timer\u001b[0m\u001b[0;34m\u001b[0m\u001b[0;34m\u001b[0m\u001b[0m\n",
            "\u001b[0;31mKeyboardInterrupt\u001b[0m: "
          ]
        }
      ]
    },
    {
      "cell_type": "markdown",
      "id": "5405d95b",
      "metadata": {
        "id": "5405d95b"
      },
      "source": [
        "### 2.5 Delete a cell\n",
        "\n",
        "To delete a cell in Jupyter Notebook, follow these steps:\n",
        "\n",
        "- Select the Cell: Click on the cell that you want to delete. The selected cell will be highlighted.\n",
        "\n",
        "- Delete the Cell: Once the cell is selected, you can press the D key twice in quick succession. Press D once, then press it again. The cell will be deleted.\n",
        "\n",
        "Alternatively, you can also use the following method:\n",
        "\n",
        "- Select the Cell: Click on the cell that you want to delete.\n",
        "\n",
        "- Toolbar Option: Look at the toolbar at the top of the notebook interface. There, you'll find an icon that looks like a trash can. Clicking on this icon will delete the selected cell.\n",
        "\n",
        "Try it with the cell below"
      ]
    },
    {
      "cell_type": "markdown",
      "id": "c97a1cbd",
      "metadata": {
        "id": "c97a1cbd"
      },
      "source": [
        "## Exercise 3: Save and export notebook\n",
        "\n",
        "3.1 Save the Notebook:\n",
        "\n",
        "    1. Click the floppy disk icon in the toolbar (or use Ctrl + S keyboard shortcut).\n",
        "    2. The notebook will be saved with your changes.\n",
        "\n",
        "3.2 Download the Notebook as .ipynb:\n",
        "\n",
        "    1. Click \"File\" in the menu bar.\n",
        "    2. Select \"Download as\" and then choose \"Notebook (.ipynb)\".\n",
        "\n",
        "3.3 Download the Notebook as PDF:\n",
        "\n",
        "    1. Click \"File\" in the menu bar.\n",
        "    2. Select \"Download as\" and then choose \"PDF via LaTeX\".\n",
        "    3. A PDF version of the notebook will be generated and downloaded.\n",
        "\n",
        "3.4 Print the Notebook as PDF:\n",
        "\n",
        "    1. Click \"File\" in the menu bar.\n",
        "    2. Select \"Print Preview\".\n",
        "    3. In the print preview window, use your browser's print functionality to save as PDF.\n"
      ]
    },
    {
      "cell_type": "code",
      "execution_count": null,
      "id": "cc6348ae",
      "metadata": {
        "id": "cc6348ae"
      },
      "outputs": [],
      "source": [
        "import time\n",
        "\n",
        "# Code you want to run\n",
        "print(\"This is the beginning of the code.\")\n",
        "# ...\n",
        "\n",
        "# Set the timer to pause for 5 seconds\n",
        "time.sleep(5)  # Pause for 5 seconds\n",
        "\n",
        "# Code that continues after the timer\n",
        "print(\"This is after the timer.\")\n",
        "# ...\n"
      ]
    },
    {
      "cell_type": "markdown",
      "id": "7d260d3e",
      "metadata": {
        "id": "7d260d3e"
      },
      "source": [
        "# Part 2 (optional)\n",
        "\n",
        "Google Colab, short for Google Colaboratory, is a cloud-based platform provided by Google that offers a free and convenient way to write and execute code in Python. It's especially popular among data scientists, researchers, and educators for its ability to provide a Jupyter Notebook-like interface that runs entirely in the cloud.\n",
        "\n",
        "\n",
        "- You can access Google Colab here https://colab.research.google.com/\n",
        "- You can use any of your google account, including Berkeley gmail account, to log on to the Colab\n",
        "- Now that you have created a notebook on the datahub and downloaded to your laptop, upload that notebook to the Google Colab\n",
        "- Execute all the cells\n",
        "- See if you can download the notebook as ipynb file, and if you can export it to a PDF file.\n",
        "\n"
      ]
    },
    {
      "cell_type": "code",
      "execution_count": null,
      "id": "a123fd29-f9c5-41c5-a790-1979c2c86eab",
      "metadata": {
        "id": "a123fd29-f9c5-41c5-a790-1979c2c86eab"
      },
      "outputs": [],
      "source": []
    },
    {
      "cell_type": "markdown",
      "id": "1d31d8c0-d515-45ea-87c0-f1161faebb86",
      "metadata": {
        "id": "1d31d8c0-d515-45ea-87c0-f1161faebb86"
      },
      "source": [
        "# Part 3 Importing Modules in Python\n",
        "\n",
        "Python provides multiple ways to import modules, each with different use cases and best practices. Below are some common ways to import the `math` module and use the `sqrt` function.\n",
        "\n",
        "## 1. Import the Entire Module\n",
        "```python\n",
        "import math\n",
        "result = math.sqrt(16)\n",
        "print(result)  # Output: 4.0\n",
        "```\n",
        "\n",
        "- This method imports the entire `math` module.\n",
        "- Functions must be accessed using `math.function_name`.\n",
        "\n",
        "---\n",
        "\n",
        "## 2. Import a Specific Function\n",
        "```python\n",
        "from math import sqrt\n",
        "result = sqrt(16)\n",
        "print(result)  # Output: 4.0\n",
        "```\n",
        "\n",
        "- This method imports only the `sqrt` function.\n",
        "- You can use `sqrt()` directly without the `math.` prefix.\n",
        "\n",
        "---\n",
        "\n",
        "## 3. Import a Function with an Alias\n",
        "```python\n",
        "from math import sqrt as s\n",
        "result = s(16)\n",
        "print(result)  # Output: 4.0\n",
        "```\n",
        "\n",
        "- This method imports `sqrt` and renames it to `s`, making it shorter to use.\n",
        "\n",
        "---\n",
        "\n",
        "## 4. Import the Entire Module with an Alias\n",
        "```python\n",
        "import math as m\n",
        "result = m.sqrt(16)\n",
        "print(result)  # Output: 4.0\n",
        "```\n",
        "\n",
        "- This method renames the `math` module to `m`, reducing typing effort.\n",
        "\n",
        "---\n",
        "\n",
        "## 5. Import Everything (Not Recommended)\n",
        "```python\n",
        "from math import *\n",
        "result = sqrt(16)\n",
        "print(result)  # Output: 4.0\n",
        "```\n",
        "\n",
        "- This imports all functions from `math`, so you can use them directly.\n",
        "- **Not recommended** because it may cause naming conflicts with other modules.\n",
        "\n",
        "---\n",
        "\n",
        "Each method has its use case, but the **best practice** is to use either:\n",
        "1. `import math` (for clarity and to avoid conflicts)\n",
        "2. `from math import sqrt` (for convenience when using a specific function)\n",
        "\n",
        "Happy coding! 🚀"
      ]
    },
    {
      "cell_type": "markdown",
      "id": "ea252d0e-8912-4738-a83a-72346f78eb2e",
      "metadata": {
        "id": "ea252d0e-8912-4738-a83a-72346f78eb2e"
      },
      "source": [
        "## Exercise 1\n",
        "\n",
        "Do a google search and find the documentation of cmath module. Give your answer in a markdown cell below"
      ]
    },
    {
      "cell_type": "code",
      "execution_count": null,
      "id": "1594c249-52ec-4359-a313-f72006c56748",
      "metadata": {
        "id": "1594c249-52ec-4359-a313-f72006c56748"
      },
      "outputs": [],
      "source": [
        "your answer. also make sure your convert this cell to a markdown cell"
      ]
    },
    {
      "cell_type": "markdown",
      "id": "8da35f20-a04b-4a67-b72f-48a3828da129",
      "metadata": {
        "id": "8da35f20-a04b-4a67-b72f-48a3828da129"
      },
      "source": [
        "## Exercise2: Calculating the Modulus of a Complex Number\n",
        "\n",
        "Now that you know how to import a module and locate its documentation, use a function from the `cmath` module to calculate the **modulus** of the complex number **1 + 3i**.\n",
        "\n",
        "#### **Instructions**\n",
        "- Import the appropriate module.\n",
        "- Use a function from `cmath` to compute the modulus.\n",
        "- Print the result.\n",
        "- Pay attention to how a complex number is represented in Python.\n",
        "\n",
        "✅ **Hint:** A complex number in Python is written as `a + bj`, where `j` is the imaginary unit.\n",
        "\n"
      ]
    },
    {
      "cell_type": "code",
      "execution_count": null,
      "id": "6c2ec12e-3d01-4cee-8724-f5a492517a91",
      "metadata": {
        "id": "6c2ec12e-3d01-4cee-8724-f5a492517a91"
      },
      "outputs": [],
      "source": [
        "# Your code here"
      ]
    },
    {
      "cell_type": "markdown",
      "id": "601e8659-cf8e-4442-9134-1477d7afa429",
      "metadata": {
        "id": "601e8659-cf8e-4442-9134-1477d7afa429"
      },
      "source": [
        "🚀 **Bonus:** how many different ways can you calculate the modulus of a complex number with cmath?"
      ]
    },
    {
      "cell_type": "code",
      "execution_count": null,
      "id": "26a92787-f684-414e-8474-549f810f6648",
      "metadata": {
        "id": "26a92787-f684-414e-8474-549f810f6648"
      },
      "outputs": [],
      "source": [
        "#"
      ]
    },
    {
      "cell_type": "markdown",
      "id": "4b6f0c0d-48ba-4098-922d-3305deaa4103",
      "metadata": {
        "id": "4b6f0c0d-48ba-4098-922d-3305deaa4103"
      },
      "source": [
        "## Exercise 3 Poisson Function and Calculation\n",
        "\n",
        "A **Poisson function** is defined as:\n",
        "\n",
        "$\n",
        "P(k; \\lambda) = \\frac{e^{-\\lambda} \\lambda^k}{k!}\n",
        "$\n",
        "\n",
        "\n",
        "where:\n",
        "- $k$ is the number of occurrences,\n",
        "- $\\lambda$ (lambda) is the expected number of occurrences,\n",
        "- $e$ is Euler's number (approximately **2.718**),\n",
        "\n",
        "\n",
        "#### **Task**\n",
        "Can you use functions from the `math` module to calculate **Poisson( k = 95, λ = 100 )**?\n",
        "\n",
        "✅ **Hint:** what functions should you look for in math module?\n",
        "\n",
        "\n"
      ]
    },
    {
      "cell_type": "code",
      "execution_count": null,
      "id": "a6b5e863-6a11-42a5-a7d0-3db129953e45",
      "metadata": {
        "id": "a6b5e863-6a11-42a5-a7d0-3db129953e45"
      },
      "outputs": [],
      "source": [
        "# Your code here\n"
      ]
    },
    {
      "cell_type": "markdown",
      "id": "7551c1f2-f3d2-4899-8a55-a8c0dbed7319",
      "metadata": {
        "id": "7551c1f2-f3d2-4899-8a55-a8c0dbed7319"
      },
      "source": [
        "## Exercise 4: Locating Useful Resources\n",
        "\n",
        "In this exercise, you will search for Python modules that can help you perform common tasks. Use online resources, such as the Python documentation and official references, to find the appropriate modules.\n",
        "\n",
        "### **Tasks:**\n",
        "1. **Find a module to check the Python version:**  \n",
        "   - Search the web to identify a Python module that allows you to check the installed Python version on **DataHub**.\n",
        "   - Once you find it, use the module in a Python script to print the Python version.\n",
        "\n",
        "2. **Find a module to get the current date and time:**  \n",
        "   - Search for a Python module that provides the current **date and time**.\n",
        "   - Use it to display the current date and time in a formatted way.\n",
        "\n",
        "3. **Find a module to generate a random number:**  \n",
        "   - Search for a Python module that allows you to generate a **random number between 1 and 100**.\n",
        "   - Write a Python script to generate and print a random number within this range.\n",
        "\n",
        "💡 **Hint:** Python’s official documentation is a great resource to explore built-in modules.\n",
        "\n"
      ]
    },
    {
      "cell_type": "code",
      "execution_count": null,
      "id": "62695fc3-b72d-4083-bfe8-d72ec33c9dea",
      "metadata": {
        "id": "62695fc3-b72d-4083-bfe8-d72ec33c9dea"
      },
      "outputs": [],
      "source": [
        "'''\n",
        "python\n",
        "# Once you find the modules, write your code here!\n",
        "'''"
      ]
    }
  ],
  "metadata": {
    "kernelspec": {
      "display_name": "Python 3 (ipykernel)",
      "language": "python",
      "name": "python3"
    },
    "language_info": {
      "codemirror_mode": {
        "name": "ipython",
        "version": 3
      },
      "file_extension": ".py",
      "mimetype": "text/x-python",
      "name": "python",
      "nbconvert_exporter": "python",
      "pygments_lexer": "ipython3",
      "version": "3.11.11"
    },
    "colab": {
      "provenance": [],
      "include_colab_link": true
    }
  },
  "nbformat": 4,
  "nbformat_minor": 5
}