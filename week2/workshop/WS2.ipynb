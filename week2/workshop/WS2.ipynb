{
  "cells": [
    {
      "cell_type": "markdown",
      "metadata": {
        "id": "view-in-github",
        "colab_type": "text"
      },
      "source": [
        "<a href=\"https://colab.research.google.com/github/R-Taneja/Physics-77-Workshop/blob/main/week2/workshop/WS2.ipynb\" target=\"_parent\"><img src=\"https://colab.research.google.com/assets/colab-badge.svg\" alt=\"Open In Colab\"/></a>"
      ]
    },
    {
      "cell_type": "markdown",
      "metadata": {
        "id": "7vAhDKhY_YBX"
      },
      "source": [
        "Rohan Taneja\n",
        "102  "
      ]
    },
    {
      "cell_type": "markdown",
      "metadata": {
        "id": "ay6kt6U0_YBY"
      },
      "source": [
        "# Workshop 2: Python basics, and a little plotting"
      ]
    },
    {
      "cell_type": "markdown",
      "metadata": {
        "id": "JW8NNX6T_YBY"
      },
      "source": [
        "**Submit this notebook to bCourses to receive a grade for this Workshop.**\n",
        "\n",
        "Please complete workshop activities in code cells in this iPython notebook. The activities titled **Practice** are purely for you to explore Python, and no particular output is expected. Some of them have some code written, and you should try to modify it in different ways to understand how it works. Although no particular output is expected at submission time, it is _highly_ recommended that you read and work through the practice activities before or alongside the exercises. However, the activities titled **Exercise** have specific tasks and specific outputs expected. Include comments in your code when necessary. Enter your name in the cell at the top of the notebook. The workshop should be submitted on bCourses under the Assignments tab.\n",
        "\n",
        "To submit the assignment, click File->Download As->Notebook (.ipynb).  Then upload the completed (.ipynb) file to the corresponding bCourses assignment."
      ]
    },
    {
      "cell_type": "markdown",
      "metadata": {
        "id": "CZG6wLrF_YBY"
      },
      "source": [
        "## Practice: Writing Python code\n",
        "\n",
        "### The iPython Interpreter\n",
        "\n",
        "Time to write your first python code! In Jupyter, the code is written in \"Cells\". Click on the \"+\" button above to create a new cell and type in \"2+2\" (without the quotes ... or with them!) and see what happens! To execute, click \"Run\" button or press \"Shift-Enter\". Also try switching the type of the cell from \"Code\" to \"Markdown\" and see what happens"
      ]
    },
    {
      "cell_type": "code",
      "execution_count": null,
      "metadata": {
        "id": "BZMtZemT_YBZ"
      },
      "outputs": [],
      "source": [
        "2+2"
      ]
    },
    {
      "cell_type": "markdown",
      "metadata": {
        "id": "kC6NcVVg_YBZ"
      },
      "source": [
        "## Practice: Peforming arithmetic in Python\n",
        "\n",
        "If you get bored of using WolframAlpha to help with physics homework, Python can also be used as a \"glorified calculator\".  Python code must follow certain syntax in order to run properly--it tends to be a bit more picky than Wolfram.  However, once you get used to the Python language, you have the freedom to calculate pretty much anything you can think of.\n",
        "\n",
        "To start, let's see how to perform the basic arithmetic operations.  The syntax is\n",
        "\n",
        "<h3><center><i>number</i> operator <i>number</i></center></h3>\n",
        "\n",
        "Run the cells below and take a look at several of the different operators that you can use in Python (text after \"#\" are non-executable comments)."
      ]
    },
    {
      "cell_type": "code",
      "execution_count": null,
      "metadata": {
        "id": "0yr2CjVT_YBZ"
      },
      "outputs": [],
      "source": [
        "3+2 #addition"
      ]
    },
    {
      "cell_type": "code",
      "execution_count": null,
      "metadata": {
        "id": "AHb2WXgo_YBZ"
      },
      "outputs": [],
      "source": [
        "3-2 #subtraction"
      ]
    },
    {
      "cell_type": "code",
      "execution_count": null,
      "metadata": {
        "id": "63622_Ly_YBa"
      },
      "outputs": [],
      "source": [
        "3*2 #multiplication"
      ]
    },
    {
      "cell_type": "code",
      "execution_count": null,
      "metadata": {
        "id": "w-DAy6iK_YBa"
      },
      "outputs": [],
      "source": [
        "3/2 #division"
      ]
    },
    {
      "cell_type": "code",
      "execution_count": null,
      "metadata": {
        "id": "IHolFWai_YBa"
      },
      "outputs": [],
      "source": [
        "3%2 #modulus (remainder after division) see https://en.wikipedia.org/wiki/Modulo_operation"
      ]
    },
    {
      "cell_type": "code",
      "execution_count": null,
      "metadata": {
        "id": "M0BLWbOs_YBa"
      },
      "outputs": [],
      "source": [
        "3**2 #exponentiation, note: 3^2 means something different in Python"
      ]
    },
    {
      "cell_type": "markdown",
      "metadata": {
        "id": "O1mzWeio_YBa"
      },
      "source": [
        "Python cares __*a lot*__ about the spaces, tabs, and enters you type (this is known as whitespace in programming).  Many of your errors this semester will involve improper indentation.  However, in this case, you are free to put a lot of space between numbers and operators as long as you keep everything in one line."
      ]
    },
    {
      "cell_type": "code",
      "execution_count": null,
      "metadata": {
        "id": "TJH1JKiK_YBa"
      },
      "outputs": [],
      "source": [
        "     5     * 3   #This is valid code"
      ]
    },
    {
      "cell_type": "markdown",
      "metadata": {
        "id": "7eAIGaiN_YBa"
      },
      "source": [
        "You are not limited to just 2 numbers and a single operator; you can put a whole bunch of operations on one line."
      ]
    },
    {
      "cell_type": "code",
      "execution_count": null,
      "metadata": {
        "id": "8vLaDlyX_YBa"
      },
      "outputs": [],
      "source": [
        "5 * 4 + 3 / 2"
      ]
    },
    {
      "cell_type": "markdown",
      "metadata": {
        "id": "_U0_5VRm_YBa"
      },
      "source": [
        "Python follows the standard order of operations (PEMDAS) : Parentheses -> Exponentiation -> Multiplication/Division -> Addition/Subtraction.  If you use parentheses, make sure every ```(``` has a corresponding ```)```"
      ]
    },
    {
      "cell_type": "code",
      "execution_count": null,
      "metadata": {
        "id": "k1Rjt2_H_YBa"
      },
      "outputs": [],
      "source": [
        "5 * (4 + 3) / 2"
      ]
    },
    {
      "cell_type": "markdown",
      "metadata": {
        "id": "EC7BBcy9_YBa"
      },
      "source": [
        "## Practice: Strings vs numbers\n",
        "\n",
        "If you're familiar with programming in other languages, you are probably aware that different [_types_](https://realpython.com/python-data-types/) of things exist--you can do more than work with numbers (and not all numbers are the same type).  If you'd like to work with letters, words, or sentences in Python, then you'll be using something called a string.  To input a string, simply put single `' '` or double `\" \"` quotes around your desired phrase."
      ]
    },
    {
      "cell_type": "code",
      "execution_count": null,
      "metadata": {
        "id": "-f5quLTG_YBb"
      },
      "outputs": [],
      "source": [
        "\"Hello world\""
      ]
    },
    {
      "cell_type": "markdown",
      "metadata": {
        "id": "qfXARj4b_YBb"
      },
      "source": [
        "Some (but not all) of the arithmetic operations also work with strings; you can add two of them together."
      ]
    },
    {
      "cell_type": "code",
      "execution_count": null,
      "metadata": {
        "id": "6JtpSvwa_YBb"
      },
      "outputs": [],
      "source": [
        "\"Phys\" + \"ics\""
      ]
    },
    {
      "cell_type": "markdown",
      "metadata": {
        "id": "O8S_Pihh_YBb"
      },
      "source": [
        "You can multiply a string by a number."
      ]
    },
    {
      "cell_type": "code",
      "execution_count": null,
      "metadata": {
        "id": "pscGoVcB_YBb"
      },
      "outputs": [],
      "source": [
        "\"ha\"*3"
      ]
    },
    {
      "cell_type": "markdown",
      "metadata": {
        "id": "MpRkXtlr_YBb"
      },
      "source": [
        "This one doesn't work; try reading the error message and see if you understand what it's saying (this is a useful skill to develop).  "
      ]
    },
    {
      "cell_type": "code",
      "execution_count": null,
      "metadata": {
        "id": "NJ_bdx6w_YBb"
      },
      "outputs": [],
      "source": [
        "\"error\"/3"
      ]
    },
    {
      "cell_type": "markdown",
      "metadata": {
        "id": "x4QeohBC_YBb"
      },
      "source": [
        "## Practice: Printing\n",
        "\n",
        "Up until this point, we've just been typing a single line of code in each Jupyter cell and running it.  Most Python interpreters will display the result of the final thing you typed, but occassionally you want to display the results of many things in a single Python script."
      ]
    },
    {
      "cell_type": "code",
      "execution_count": null,
      "metadata": {
        "id": "Pi2fI1rH_YBb"
      },
      "outputs": [],
      "source": [
        "\"These are some numbers:\"\n",
        "3*2\n",
        "3*3\n",
        "3*4"
      ]
    },
    {
      "cell_type": "markdown",
      "metadata": {
        "id": "IWeK9RfY_YBb"
      },
      "source": [
        "In the cell above, there are several multiplications happening but only the final result is displayed.  To display everything, we simply use a \"print statement\" on each line."
      ]
    },
    {
      "cell_type": "code",
      "execution_count": null,
      "metadata": {
        "id": "bk4Ebkcd_YBb"
      },
      "outputs": [],
      "source": [
        "print(\"These are some numbers:\")\n",
        "print(3*2)\n",
        "print(3*3)\n",
        "print(3*4)"
      ]
    },
    {
      "cell_type": "markdown",
      "metadata": {
        "id": "dW8ujALa_YBb"
      },
      "source": [
        "If you'd like to print multiple things on one line, you can separate them by commas within the print statement."
      ]
    },
    {
      "cell_type": "code",
      "execution_count": null,
      "metadata": {
        "id": "sA14PjTr_YBb"
      },
      "outputs": [],
      "source": [
        "print(\"These are some numbers:\", 3*2, 3*3, 3*4)"
      ]
    },
    {
      "cell_type": "markdown",
      "metadata": {
        "id": "SzW6kYfU_YBb"
      },
      "source": [
        "## Exercise 1: Four Fours\n",
        "\n",
        "[Inspired by Harvey Mudd College's CS5 course] Here's an arithmetic game to try your hand at. Your task is to compute each of the numbers, from 1 through 11, using exactly four 4's and simple math operations. You're allowed to use `+` (addition), `-` (subtraction), `*` (multiplication), `/` (division), `sqrt()` (square root), `factorial()` (factorial), and `%` (modulus). You're also allowed to use `.4` (that's one 4) or `44` (that's two 4's) if you'd like. Just remember, you must use exactly four 4 digits total!\n",
        "\n",
        "As a reminder, four factorial (denoted by $!$ in mathematics) is $4! = 4 \\cdot 3 \\cdot 2 \\cdot 1$, and the modulus operator (usually denoted by $\\text{mod}$ in mathematics) is the remainder after division. For instance, $\\ 5\\ \\text{mod}\\ 2 = 1$, $\\ 13\\ \\text{mod}\\ 7 = 6$, and $\\ 14\\ \\text{mod}\\ 7 = 0$.\n",
        "\n",
        "We've given you `zero` for free, as `4 - 4 + 4 - 4`. Of course, we could have also done `44 * (.4 - .4)` or `factorial(4) - 4 * (4 + sqrt(4))`, since both of those also yield `0` (or rather, `0.0`. Why is that?) and use exactly four 4's."
      ]
    },
    {
      "cell_type": "code",
      "execution_count": null,
      "metadata": {
        "id": "weZ1JMEW_YBb"
      },
      "outputs": [],
      "source": [
        "### Exercise 1\n",
        "\n",
        "from math import factorial, sqrt\n",
        "\n",
        "print('Zero:', 4 - 4 + 4 - 4)\n",
        "print('One:')\n",
        "print('Two:')\n",
        "print('Three:')\n",
        "print('Four:')\n",
        "print('Five:')\n",
        "print('Six:')\n",
        "print('Seven:')\n",
        "print('Eight:')\n",
        "print('Nine:')\n",
        "print('Ten:')\n",
        "print('Eleven:')"
      ]
    },
    {
      "cell_type": "markdown",
      "metadata": {
        "id": "cwN8C_JB_YBb"
      },
      "source": [
        "Your final source code will be full of four fours formulas, but your final output should look like this:\n",
        "\n",
        "    Zero: 0\n",
        "    One: 1\n",
        "    Two: 2\n",
        "    Three: 3\n",
        "    Four: 4\n",
        "    Five: 5\n",
        "    Six: 6\n",
        "    Seven: 7\n",
        "    Eight: 8\n",
        "    Nine: 9\n",
        "    Ten: 10\n",
        "    Eleven: 11\n",
        "\n",
        "It's ok if some of these have a trailing `.0` (`0.0`, for instance), but make sure you understand why they do!"
      ]
    },
    {
      "cell_type": "markdown",
      "metadata": {
        "id": "FONQ35j4_YBb"
      },
      "source": [
        "## Practice: Variables, functions, namespaces\n",
        "\n",
        "### Variables\n",
        "\n",
        "Suppose you calculate something in Python and would like to use the result later in your program (instead of just printing it and immediately throwing it away). One big difference between a calculator and a computer language is an ability to store the values in memory, give that memory block a name, and use the value in later calculations. Such named memory block is called a _variable_. To create a variable, use an _assignment_ opperator =  . Once you have created the variable, you can use it in the calculations."
      ]
    },
    {
      "cell_type": "code",
      "execution_count": null,
      "metadata": {
        "id": "Cp54OM5K_YBb"
      },
      "outputs": [],
      "source": [
        "x = \"Phys\"\n",
        "y = \"ics!\"\n",
        "z = x + y     # Put 'em together\n",
        "z             # See what we got!"
      ]
    },
    {
      "cell_type": "code",
      "execution_count": null,
      "metadata": {
        "id": "DcRw2DLQ_YBb"
      },
      "outputs": [],
      "source": [
        "y + x         # Backwards!"
      ]
    },
    {
      "cell_type": "code",
      "execution_count": null,
      "metadata": {
        "id": "GTdUWK97_YBb"
      },
      "outputs": [],
      "source": [
        "len(z)        # 8 characters in total ..."
      ]
    },
    {
      "cell_type": "code",
      "execution_count": null,
      "metadata": {
        "id": "K2FjtfIM_YBc"
      },
      "outputs": [],
      "source": [
        "len(z)**2     # Computing the area?"
      ]
    },
    {
      "cell_type": "code",
      "execution_count": null,
      "metadata": {
        "id": "G3gCaX0w_YBc"
      },
      "outputs": [],
      "source": [
        "z[0]          # Grab the first character"
      ]
    },
    {
      "cell_type": "code",
      "execution_count": null,
      "metadata": {
        "id": "h3t-KilU_YBc"
      },
      "outputs": [],
      "source": [
        "z[1:3]        # Grab the next two characters"
      ]
    },
    {
      "cell_type": "code",
      "execution_count": null,
      "metadata": {
        "id": "Ws4rLhuW_YBc"
      },
      "outputs": [],
      "source": [
        "z[:4]"
      ]
    },
    {
      "cell_type": "code",
      "execution_count": null,
      "metadata": {
        "id": "EHYzBJn6_YBc"
      },
      "outputs": [],
      "source": [
        "z[:4] == x    # Test a match!"
      ]
    },
    {
      "cell_type": "code",
      "execution_count": null,
      "metadata": {
        "id": "YyneEgoE_YBc"
      },
      "outputs": [],
      "source": [
        "z[4:] == y"
      ]
    },
    {
      "cell_type": "code",
      "execution_count": null,
      "metadata": {
        "id": "ZSix8C4A_YBc"
      },
      "outputs": [],
      "source": [
        "z[:]          # The whole string"
      ]
    },
    {
      "cell_type": "code",
      "execution_count": null,
      "metadata": {
        "id": "TLCvz0bs_YBc"
      },
      "outputs": [],
      "source": [
        "z[::-1]       # The whole string, right to left"
      ]
    },
    {
      "cell_type": "code",
      "execution_count": null,
      "metadata": {
        "id": "Pb_a65fS_YBc"
      },
      "outputs": [],
      "source": [
        "z[1::3]       # Start at the second character and take every third character from there"
      ]
    },
    {
      "cell_type": "code",
      "execution_count": null,
      "metadata": {
        "id": "143BnOiO_YBc"
      },
      "outputs": [],
      "source": [
        "z*3 + 5*z[-1] # Woo!"
      ]
    },
    {
      "cell_type": "markdown",
      "metadata": {
        "id": "Ma8WK8mg_YBc"
      },
      "source": [
        "### Namespaces"
      ]
    },
    {
      "cell_type": "markdown",
      "metadata": {
        "id": "lnrbT0To_YBc"
      },
      "source": [
        "This notebook and interpreter are a great place to test things out and mess around. Some interpreters (like Canopy) comes preloaded with a couple libraries (like numpy and matplotlib) that we will use a lot in this course. In Jupyter, you have to pre-load each package before using it. This is a good python practice anyway ! Here is an example."
      ]
    },
    {
      "cell_type": "code",
      "execution_count": null,
      "metadata": {
        "id": "dGv_g7lw_YBc"
      },
      "outputs": [],
      "source": [
        "log(e)"
      ]
    },
    {
      "cell_type": "markdown",
      "metadata": {
        "id": "4yeGnC29_YBc"
      },
      "source": [
        "Both the function `log` and the number `e` are from the `numpy` library, which needs to be loaded into Jupyter. \"pylab\" adds `matplotlib` (the standard plotting tool) to `numpy`, so we will use that."
      ]
    },
    {
      "cell_type": "code",
      "execution_count": null,
      "metadata": {
        "id": "fw2nmH3J_YBc"
      },
      "outputs": [],
      "source": [
        "from pylab import *\n",
        "log(e)"
      ]
    },
    {
      "cell_type": "markdown",
      "metadata": {
        "id": "HJLOL1GE_YBc"
      },
      "source": [
        "Or type `pie([1,2,3])`, since `pie` is defined by matplotlib!"
      ]
    },
    {
      "cell_type": "code",
      "execution_count": null,
      "metadata": {
        "id": "JvF9gBmi_YBc"
      },
      "outputs": [],
      "source": [
        "pie([1,2,3])\n",
        "matplotlib.pyplot.show()  #This line is needed so matplotlib actually displays the plot"
      ]
    },
    {
      "cell_type": "markdown",
      "metadata": {
        "id": "YYMC7HXJ_YBd"
      },
      "source": [
        "Note that we imported all library definitions from `pylab` into the default <i>namespace</i>, and can use the functions directly instead of having to add the name or alias of the package:"
      ]
    },
    {
      "cell_type": "code",
      "execution_count": null,
      "metadata": {
        "id": "hrAP_5TJ_YBd"
      },
      "outputs": [],
      "source": [
        "import numpy as np\n",
        "np.log(np.e)"
      ]
    },
    {
      "cell_type": "markdown",
      "metadata": {
        "id": "YCIZC7-l_YBd"
      },
      "source": [
        "Loading into the default namespace can be convenient, but also confusing since many names and variables are already used in ways you might not expect. When writing scripts you'll have to manually import any library you want to use. This little inconvenience is greatly worth the confusion it can save."
      ]
    },
    {
      "cell_type": "markdown",
      "metadata": {
        "id": "ox8i5BXK_YBd"
      },
      "source": [
        "### Functions\n",
        "\n",
        "You'll often find yourself performing the same operations on several different variables.  For example, we might want to convert heights from feet to meters."
      ]
    },
    {
      "cell_type": "code",
      "execution_count": null,
      "metadata": {
        "id": "RPRzOE75_YBd"
      },
      "outputs": [],
      "source": [
        "burj_khalifa = 2717   #height in feet\n",
        "shanghai_tower = 2073 #height in feet"
      ]
    },
    {
      "cell_type": "code",
      "execution_count": null,
      "metadata": {
        "id": "_GvawgrF_YBd"
      },
      "outputs": [],
      "source": [
        "print(burj_khalifa / 3.281)   #height in meters\n",
        "print(shanghai_tower / 3.281) #height in meters"
      ]
    },
    {
      "cell_type": "markdown",
      "metadata": {
        "id": "ZIZIlD2V_YBd"
      },
      "source": [
        "You could just type the same thing over and over (or copy and paste), but this becomes tedious as your operations become more complex.  To simplify things, you can define a function in Python (above, you were able to use the `log()` function from the `numpy` library)."
      ]
    },
    {
      "cell_type": "code",
      "execution_count": null,
      "metadata": {
        "id": "2us5eLFi_YBd"
      },
      "outputs": [],
      "source": [
        "'''A function definition starts with the 'def' keyword,\n",
        "followed by the function name. The input variables are then\n",
        "placed in parentheses after the function name. The first line\n",
        "ends with a colon'''\n",
        "\n",
        "def feet_to_meters(height):\n",
        "\n",
        "    #The operations to be performed by the function are now written out at the first indentation level\n",
        "    #You can indent with tabs or a constant number of spaces; just be consistent\n",
        "    converted_height = height / 3.281\n",
        "    print(\"Your height is being converted to meters.\")\n",
        "\n",
        "    return converted_height #To return a value from a function, use the 'return' keyword"
      ]
    },
    {
      "cell_type": "markdown",
      "metadata": {
        "id": "RWgkHp09_YBd"
      },
      "source": [
        "To use a function, simply type its name with the appropriate input variables in parentheses."
      ]
    },
    {
      "cell_type": "code",
      "execution_count": null,
      "metadata": {
        "id": "sU8_sWXC_YBd"
      },
      "outputs": [],
      "source": [
        "feet_to_meters(burj_khalifa)"
      ]
    },
    {
      "cell_type": "markdown",
      "metadata": {
        "id": "2Ls3Tc1Y_YBd"
      },
      "source": [
        "If you'd like a function with multiple input variables, simply separate them with commas in the function declaration."
      ]
    },
    {
      "cell_type": "code",
      "execution_count": null,
      "metadata": {
        "id": "IOrIwcpm_YBd"
      },
      "outputs": [],
      "source": [
        "def difference_in_meters(height1, height2):\n",
        "\n",
        "    converted_height1 = height1 / 3.281\n",
        "    converted_height2 = height2 / 3.281\n",
        "\n",
        "    return converted_height1 - converted_height2"
      ]
    },
    {
      "cell_type": "code",
      "execution_count": null,
      "metadata": {
        "id": "bvJxhtg6_YBd"
      },
      "outputs": [],
      "source": [
        "difference_in_meters(burj_khalifa, shanghai_tower)"
      ]
    },
    {
      "cell_type": "markdown",
      "metadata": {
        "id": "RQDLC0q0_YBd"
      },
      "source": [
        "## Practice: Formatted output (looking a bit ahead)\n",
        "\n",
        "Usually the data you manipulate has finate precision. You do not know it absolutely precisely, and therefore you should not report it with an arbitrary number of digits. One of the cardinal rules of a good science paper: round off all your numbers to the precision you know them (or care about) -- and no more !\n",
        "\n",
        "#### Examples:"
      ]
    },
    {
      "cell_type": "code",
      "execution_count": null,
      "metadata": {
        "id": "oxnI_kLp_YBd"
      },
      "outputs": [],
      "source": [
        "x = 20.0 # I only know 3 digits\n",
        "print(x)   # OK, let Python handle it"
      ]
    },
    {
      "cell_type": "markdown",
      "metadata": {
        "id": "jElTYf1n_YBd"
      },
      "source": [
        "That's actually pretty good -- Python remembered stored precision !\n",
        "What happens if you now use x in a calculation ?"
      ]
    },
    {
      "cell_type": "code",
      "execution_count": null,
      "metadata": {
        "id": "Owxbss4s_YBd"
      },
      "outputs": [],
      "source": [
        "print(sqrt(x))"
      ]
    },
    {
      "cell_type": "markdown",
      "metadata": {
        "id": "9-HFsknT_YBd"
      },
      "source": [
        "Do we really know the output to 10 significant digits ? No ! So let's truncate it"
      ]
    },
    {
      "cell_type": "code",
      "execution_count": null,
      "metadata": {
        "id": "ueA2oAoQ_YBd"
      },
      "outputs": [],
      "source": [
        "print('sqrt(x) = {0:5.3f}'.format(sqrt(x)))"
      ]
    },
    {
      "cell_type": "markdown",
      "metadata": {
        "id": "5TDR-WT5_YBd"
      },
      "source": [
        "There are several formatting options available to you, but the basic idea is this:\n",
        "place `{:.#f}` wherever you'd like to insert a variable into your string (where `#` is\n",
        "the number of digits you'd like after the decimal point).  Then type `.format()` after\n",
        "the string and place the variable names within the parentheses."
      ]
    },
    {
      "cell_type": "code",
      "execution_count": null,
      "metadata": {
        "id": "pAqwVKEb_YBd"
      },
      "outputs": [],
      "source": [
        "from math import e\n",
        "\n",
        "print(\"Euler's number with 5 decimal places is {:.5f} and with 3 decimal places is {:.3f}\".format(e,e))"
      ]
    },
    {
      "cell_type": "markdown",
      "metadata": {
        "id": "xWKNeRIZ_YBe"
      },
      "source": [
        "For more formatting options, see https://pyformat.info/"
      ]
    },
    {
      "cell_type": "markdown",
      "metadata": {
        "id": "EQGxz3Mi_YBe"
      },
      "source": [
        "### Practice\n",
        "\n",
        "Using what you just learned, try writing program to print only 4 decimal places of $\\pi$ and $\\log\\pi$. The result should look like:\n",
        "\n",
        "    Hello world! Have some pie! 3.1416\n",
        "    And some pie from a log! 1.1447"
      ]
    },
    {
      "cell_type": "code",
      "execution_count": null,
      "metadata": {
        "id": "UR-FsZZ-_YBe"
      },
      "outputs": [],
      "source": [
        "from math import pi\n",
        "\n",
        "#Your print statement here"
      ]
    },
    {
      "cell_type": "markdown",
      "metadata": {
        "id": "STIZon5u_YBe"
      },
      "source": [
        "## Exercise 2: Coulomb force\n",
        "\n",
        "Write a function that calculates the magnitude of the force between two charged particles.  The function should take the charge of each particle ($q_1$ and $q_2$) and the distance between them, $r$, as input (three input variables total).  The electrostatic force between two particles is given by:\n",
        "\n",
        "$ F = k\\frac{q_1 q_2}{r^2}$"
      ]
    },
    {
      "cell_type": "code",
      "execution_count": null,
      "metadata": {
        "id": "pR-u-aOt_YBe"
      },
      "outputs": [],
      "source": [
        "k = 8.99e9   #Coulomb constant, units: N * m**2 / C**2\n",
        "\n",
        "def calculate_force(q1, q2, r):\n",
        "\n",
        "    #calculate (and return) the force between the two particles\n",
        ""
      ]
    },
    {
      "cell_type": "markdown",
      "metadata": {
        "id": "7aq6vR1o_YBe"
      },
      "source": [
        "Now call the function with random input values (of your choosing) and print the result with 3 decimal places. What happens if you call the function with the value $r=0$ ?"
      ]
    },
    {
      "cell_type": "code",
      "execution_count": null,
      "metadata": {
        "id": "_L5cLOba_YBe"
      },
      "outputs": [],
      "source": []
    },
    {
      "cell_type": "markdown",
      "metadata": {
        "id": "7uj_OF2b_YBe"
      },
      "source": [
        "## Practice: Simple plotting (looking a bit ahead)\n",
        "\n",
        "In order to do some plotting, we'll need the tools from two commonly used Python libraries: `matplotlib` (similar to Matlab plotting) and `numpy` (NUMerical PYthon).  You've seen importing at work before with `from math import sqrt`; we can also import an entire library (or a large part of it) with the following syntax:"
      ]
    },
    {
      "cell_type": "code",
      "execution_count": null,
      "metadata": {
        "id": "GFaVtgxl_YBe"
      },
      "outputs": [],
      "source": [
        "import numpy as np\n",
        "import matplotlib.pyplot as plt"
      ]
    },
    {
      "cell_type": "markdown",
      "metadata": {
        "id": "3MsPfHkl_YBe"
      },
      "source": [
        "You could have also typed `import numpy`, but programmers are lazy when it comes to typing.  By including `as np`, you now only have to type the two-letter word `np` when you'd like to use functions from the library.  The `np` and `plt` part of the import statements can be whatever you like--these are just the standard names.\n",
        "\n",
        "Numpy has a lot of the same functions as the `math` library; for example we have `sqrt`, `log`, and `exp`:"
      ]
    },
    {
      "cell_type": "code",
      "execution_count": null,
      "metadata": {
        "id": "Xj7vYMgH_YBe"
      },
      "outputs": [],
      "source": [
        "np.sqrt(4)"
      ]
    },
    {
      "cell_type": "code",
      "execution_count": null,
      "metadata": {
        "id": "ZCa5czA-_YBe"
      },
      "outputs": [],
      "source": [
        "np.log(4)"
      ]
    },
    {
      "cell_type": "code",
      "execution_count": null,
      "metadata": {
        "id": "4xQvlhtd_YBe"
      },
      "outputs": [],
      "source": [
        "np.exp(3)"
      ]
    },
    {
      "cell_type": "code",
      "execution_count": null,
      "metadata": {
        "id": "p9Dd0ALH_YBe"
      },
      "outputs": [],
      "source": [
        "np.log(np.exp(5))"
      ]
    },
    {
      "cell_type": "markdown",
      "metadata": {
        "id": "So83qP6B_YBe"
      },
      "source": [
        "We could have just gotten these functions from the `math` library, so why bother with `numpy`?  There's another variable type in Python known as a *__list__*, which is exactly like it sounds--just a list of some things (numbers, strings, more lists, etc.).  We'll talk about these more at some point, but the important thing is that `numpy` has a way better alternative: the `numpy` array.  Usually anything you'd want to do with a list can also be done with a `numpy` array, but faster.\n",
        "\n",
        "Let's just demonstrate by example.  Suppose we want to plot the function `x**2`.  To do this, we'll plot a collection of (x,y) points and connect them with lines.  If the points are spaced closely enough, the plot will look nice and smooth on the screen."
      ]
    },
    {
      "cell_type": "code",
      "execution_count": null,
      "metadata": {
        "id": "rG76ai2S_YBe"
      },
      "outputs": [],
      "source": [
        "x_values = np.linspace(-5, 5, 11)\n",
        "print(x_values)"
      ]
    },
    {
      "cell_type": "markdown",
      "metadata": {
        "id": "ElyVBbiF_YBe"
      },
      "source": [
        "The `linspace` function from `numpy` gave us an array of 11 numbers, evenly spaced between -5 and 5.  We'll want our points a bit closer, so let's change 11 to something larger."
      ]
    },
    {
      "cell_type": "code",
      "execution_count": null,
      "metadata": {
        "id": "2mnY1s5J_YBe"
      },
      "outputs": [],
      "source": [
        "x_values = np.linspace(-5, 5 , 1000)\n",
        "y_values = x_values**2"
      ]
    },
    {
      "cell_type": "markdown",
      "metadata": {
        "id": "X7qHc9R5_YBe"
      },
      "source": [
        "To get the corresponding y values, we can just perform operations on the entire array of x values.  Now, we can plot these using the `matplotlib` library."
      ]
    },
    {
      "cell_type": "code",
      "execution_count": null,
      "metadata": {
        "id": "itoax5i2_YBe"
      },
      "outputs": [],
      "source": [
        "plt.plot(x_values, y_values)"
      ]
    },
    {
      "cell_type": "markdown",
      "metadata": {
        "id": "_MYhu-0s_YBe"
      },
      "source": [
        "There's a ton of stuff you can do with `matplotlib.pyplot` or the `matplotlib` library as a whole, but here are a few basics to get you started."
      ]
    },
    {
      "cell_type": "code",
      "execution_count": null,
      "metadata": {
        "id": "aDosGXWO_YBe"
      },
      "outputs": [],
      "source": [
        "plt.plot(x_values, x_values**3)  #As before, this plots the (x,y) points and connects them with lines\n",
        "\n",
        "plt.show()  #This forces matplotlib to display the current figure\n",
        "\n",
        "plt.figure()  #This creates a new, empty figure\n",
        "\n",
        "plt.plot(x_values, np.exp(x_values), 'g--')  #There are lots of optional arguments that do cool things\n",
        "\n",
        "plt.title(r'$e^x$')         #Creates a title; you can use LaTeX formatting in matplotlib as shown here\n",
        "\n",
        "plt.xlabel('y values')      #Label for x-axis\n",
        "\n",
        "plt.ylabel('exp(x)')        #Label for y-axis\n",
        "\n",
        "plt.show()"
      ]
    },
    {
      "cell_type": "markdown",
      "metadata": {
        "id": "9YYWwAqR_YBe"
      },
      "source": [
        "## Exercise 3: Plotting Radioactivity Data (looking a bit ahead)\n",
        "\n",
        "[Adapted from Ayars, Problem 0-2]"
      ]
    },
    {
      "cell_type": "markdown",
      "metadata": {
        "id": "8t3AfQNJ_YBe"
      },
      "source": [
        "The file Ba137.txt contains two columns. The first is counts from a Geiger counter, the second is time in seconds. If you opened this Workshop notebook using the Interact Link (from the bCourses page), then you should already have Ba137.txt in your datahub directory.  \n",
        "\n",
        "If not, it's available [here](https://raw.githubusercontent.com/celegante/code_chapter_0-_github/master/Ba137.txt). Open the link, right-click and save as a .txt file. Then upload to datahub.berkeley.edu or move it to whichever folder you're keeping this notebook."
      ]
    },
    {
      "cell_type": "markdown",
      "metadata": {
        "id": "AFwqotJb_YBf"
      },
      "source": [
        "1. Make a useful graph of this data, with axes labels and a title.\n",
        "2. If this data follows an exponential curve, then plotting the natural log of the data (or plotting the raw data on a logarithmic scale) will result in a straight line. Determine whether this is the case, and explain your conclusion with---you guessed it---an appropriate graph."
      ]
    },
    {
      "cell_type": "markdown",
      "metadata": {
        "id": "ZlwTffd__YBf"
      },
      "source": [
        "Be sure to add comments throughout your code so it's clear what each section of the code is doing! It may help to refer to the lecture notes or Ayars Chapter 0.\n",
        "\n",
        "Try using `'x'` or `'^'` as the marker type in your `plt.plot()` functions (instead of `'g-'`, for instance), to get a single x or triangle for each data point instead of a connected line. Google if you'd like to learn more options!\n",
        "\n",
        "Once you're through, your code should produce two graphs, one with the data, another with the natural log of the data, both labelled appropriately. It should also print out a clear answer to the question in part 2 (e.g., `Yes, the data follows an exponential curve`, or `No, the data does not follow an exponential curve`)."
      ]
    },
    {
      "cell_type": "code",
      "execution_count": null,
      "metadata": {
        "id": "-vT2hAhQ_YBf"
      },
      "outputs": [],
      "source": [
        "### Exercise 3\n",
        "\n",
        "import numpy as np\n",
        "import matplotlib.pyplot as plt\n",
        "\n",
        "### Load the data here\n",
        "counts, times = np.loadtxt('Ba137.txt', unpack = True)\n",
        "\n",
        "plt.figure()    # Start a clean figure for your first plot\n",
        "\n",
        "### Your code for the first plot here!\n",
        "\n",
        "plt.figure()    # Start a clean figure for your second plot\n",
        "\n",
        "### Your code for the second plot here!\n",
        "\n",
        "plt.show()      # This tells python to display the plots you've made"
      ]
    },
    {
      "cell_type": "markdown",
      "metadata": {
        "id": "O-86gYe2_YBf"
      },
      "source": [
        "#### Hints\n",
        "\n",
        "Put the file in the same directory as your python file, and use numpy's `loadtxt` or `genfromtxt` function to load each column into an array for use in your plots.\n",
        "\n",
        "If your file isn't loading correctly, it might be because your IPython working directory isn't the same as the directory your script and Ba137.txt are in.\n",
        "\n",
        "If you'd like to learn more about what `loadtxt` does (or why the `unpack = True` option is important), type `loadtxt?` or `help(loadtxt)` into the python interpreter for documentation. Press `q` to get out of the documentation."
      ]
    },
    {
      "cell_type": "markdown",
      "metadata": {
        "id": "28OpDjg0_YBf"
      },
      "source": [
        "## Practice: Debugging\n",
        "\n",
        "[Adapted from Langtangen, Exercise 1.16] Working with a partner, type these statements into your python interpreter. Figure out why some statements fail and correct the errors.\n",
        "\n",
        "*Hint: Try testing the left- and right-hand sides seperately before you put them together in statements. It's ok if you don't understand yet why some of the expressions evaluate to the results they do (like the last one).*\n",
        "\n",
        "    1a = 2\n",
        "    a1 = b\n",
        "    x = 2\n",
        "    y = X + 4    # is it 6?\n",
        "    5 = 5    # is it True?\n",
        "    4/5 == 4.0/5.0   # is it True? (this depends on which version of Python you're using)\n",
        "    type(10/2) == type(10/2.)   # is it True? (again, this depends on the Python version)\n",
        "    from Math import factorial\n",
        "    print factorial(pi)\n",
        "    discount = 12%"
      ]
    },
    {
      "cell_type": "code",
      "execution_count": null,
      "metadata": {
        "id": "4zlg_TbN_YBf"
      },
      "outputs": [],
      "source": []
    },
    {
      "cell_type": "markdown",
      "metadata": {
        "id": "EelL_jNx_YBf"
      },
      "source": [
        "## You're done!\n",
        "\n",
        "Congratulations, you've finished this week's workshop! You're welcome to leave early or get started on this week's homework."
      ]
    }
  ],
  "metadata": {
    "kernelspec": {
      "display_name": "Python 3 (ipykernel)",
      "language": "python",
      "name": "python3"
    },
    "language_info": {
      "codemirror_mode": {
        "name": "ipython",
        "version": 3
      },
      "file_extension": ".py",
      "mimetype": "text/x-python",
      "name": "python",
      "nbconvert_exporter": "python",
      "pygments_lexer": "ipython3",
      "version": "3.11.11"
    },
    "colab": {
      "provenance": [],
      "include_colab_link": true
    }
  },
  "nbformat": 4,
  "nbformat_minor": 0
}